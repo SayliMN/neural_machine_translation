{
 "cells": [
  {
   "cell_type": "code",
   "execution_count": 1,
   "id": "882c59a2",
   "metadata": {},
   "outputs": [],
   "source": [
    "import numpy as np\n",
    "import pandas as pd\n",
    "import matplotlib.pyplot as plt"
   ]
  },
  {
   "cell_type": "markdown",
   "id": "bcf88d16",
   "metadata": {},
   "source": [
    "### Loading the data"
   ]
  },
  {
   "cell_type": "code",
   "execution_count": 41,
   "id": "cd96045f",
   "metadata": {},
   "outputs": [],
   "source": [
    "NUM_SAMPLES = 10000\n",
    "\n",
    "input_texts = []\n",
    "target_texts = []\n",
    "target_texts_input = []"
   ]
  },
  {
   "cell_type": "code",
   "execution_count": 48,
   "id": "29cd5961",
   "metadata": {},
   "outputs": [
    {
     "name": "stdout",
     "output_type": "stream",
     "text": [
      "9183\n"
     ]
    }
   ],
   "source": [
    "t = 0\n",
    "\n",
    "for line in open(\"../neural_machine_translation/data/hin.txt\"):\n",
    "    t += 1\n",
    "    if t > NUM_SAMPLES:\n",
    "        break\n",
    "    \n",
    "    if '\\t' not in line:\n",
    "        continue\n",
    "        \n",
    "    input_text, translation, *rest = line.rstrip().split('\\t')\n",
    "    \n",
    "    target_text = translation + ' <eos>'\n",
    "    target_text_input = '<sos> ' + translation\n",
    "    \n",
    "    input_texts.append(input_text)\n",
    "    target_texts.append(target_text)\n",
    "    target_texts_input.append(target_text_input)"
   ]
  },
  {
   "cell_type": "code",
   "execution_count": 56,
   "id": "52cb362c",
   "metadata": {},
   "outputs": [
    {
     "name": "stdout",
     "output_type": "stream",
     "text": [
      "Number of input texts: 9183\n"
     ]
    },
    {
     "data": {
      "text/plain": [
       "['Wow!',\n",
       " 'Duck!',\n",
       " 'Duck!',\n",
       " 'Help!',\n",
       " 'Jump.',\n",
       " 'Jump.',\n",
       " 'Jump.',\n",
       " 'Hello!',\n",
       " 'Hello!',\n",
       " 'Cheers!',\n",
       " 'Cheers!',\n",
       " 'Exhale.',\n",
       " 'Exhale.',\n",
       " 'Got it?',\n",
       " \"I'm OK.\"]"
      ]
     },
     "execution_count": 56,
     "metadata": {},
     "output_type": "execute_result"
    }
   ],
   "source": [
    "print('Number of input texts:', len(input_texts))\n",
    "input_texts[:15]"
   ]
  },
  {
   "cell_type": "code",
   "execution_count": null,
   "id": "f73348f4",
   "metadata": {},
   "outputs": [],
   "source": []
  },
  {
   "cell_type": "code",
   "execution_count": null,
   "id": "d809a541",
   "metadata": {},
   "outputs": [],
   "source": []
  }
 ],
 "metadata": {
  "kernelspec": {
   "display_name": "Python 3 (ipykernel)",
   "language": "python",
   "name": "python3"
  },
  "language_info": {
   "codemirror_mode": {
    "name": "ipython",
    "version": 3
   },
   "file_extension": ".py",
   "mimetype": "text/x-python",
   "name": "python",
   "nbconvert_exporter": "python",
   "pygments_lexer": "ipython3",
   "version": "3.9.6"
  }
 },
 "nbformat": 4,
 "nbformat_minor": 5
}
