{
 "cells": [
  {
   "cell_type": "code",
   "execution_count": 2,
   "id": "0c3ee0d9",
   "metadata": {},
   "outputs": [],
   "source": [
    "import numpy as np\n",
    "import pandas as pd\n",
    "import matplotlib.pyplot as plt"
   ]
  },
  {
   "cell_type": "markdown",
   "id": "d5379199",
   "metadata": {},
   "source": [
    "### Loading data"
   ]
  },
  {
   "cell_type": "code",
   "execution_count": 3,
   "id": "a27dbf22",
   "metadata": {},
   "outputs": [],
   "source": [
    "NUM_SAMPLES = 10000\n",
    "\n",
    "input_texts = []\n",
    "target_texts = []\n",
    "target_texts_input = []"
   ]
  },
  {
   "cell_type": "code",
   "execution_count": 10,
   "id": "0b03f040",
   "metadata": {},
   "outputs": [],
   "source": [
    "t = 0\n",
    "\n",
    "with open(\"../neural_machine_translation/data/hin.txt\") as f:\n",
    "    for line in f:\n",
    "        \n",
    "        # keeping only limited number of samples\n",
    "        t += 1\n",
    "        if t > NUM_SAMPLES:\n",
    "            break\n",
    "            \n",
    "        if '\\t' not in line:\n",
    "            continue\n",
    "            \n",
    "        input_text, translation, *rest = line.rstrip().split('\\t')\n",
    "        \n",
    "        target_text = translation + ' <eos>'\n",
    "        target_text_input = '<sos> ' + translation\n",
    "        \n",
    "        input_texts.append(input_text)\n",
    "        target_texts.append(target_text)\n",
    "        target_texts_input.append(target_text_input)\n",
    "    "
   ]
  },
  {
   "cell_type": "code",
   "execution_count": 11,
   "id": "1b132a5e",
   "metadata": {},
   "outputs": [
    {
     "data": {
      "text/plain": [
       "['<sos> वाह!',\n",
       " '<sos> झुको!',\n",
       " '<sos> बतख़!',\n",
       " '<sos> बचाओ!',\n",
       " '<sos> उछलो.',\n",
       " '<sos> कूदो.',\n",
       " '<sos> छलांग.',\n",
       " '<sos> नमस्ते।',\n",
       " '<sos> नमस्कार।',\n",
       " '<sos> वाह-वाह!',\n",
       " '<sos> चियर्स!',\n",
       " '<sos> सांस छोड़।',\n",
       " '<sos> सांस छोड़ो।',\n",
       " '<sos> समझे कि नहीं?',\n",
       " '<sos> मैं ठीक हूँ।']"
      ]
     },
     "execution_count": 11,
     "metadata": {},
     "output_type": "execute_result"
    }
   ],
   "source": [
    "target_texts_input[:15]"
   ]
  },
  {
   "cell_type": "markdown",
   "id": "fe77eb65",
   "metadata": {},
   "source": [
    "### Tokenizers and word to index mappings"
   ]
  },
  {
   "cell_type": "markdown",
   "id": "dc8f8b01",
   "metadata": {},
   "source": [
    "#### I have two languages to deal with, hence need two different tokenizers"
   ]
  },
  {
   "cell_type": "code",
   "execution_count": 18,
   "id": "78bd9567",
   "metadata": {},
   "outputs": [
    {
     "name": "stdout",
     "output_type": "stream",
     "text": [
      "['Wow!', 'Duck!', 'Duck!', 'Help!', 'Jump.']\n"
     ]
    }
   ],
   "source": [
    "print(input_texts[:5])"
   ]
  },
  {
   "cell_type": "code",
   "execution_count": 19,
   "id": "0a12a2f8",
   "metadata": {},
   "outputs": [],
   "source": [
    "from keras.preprocessing.text import Tokenizer\n",
    "from keras_preprocessing.sequence import pad_sequences\n",
    "\n",
    "MAX_NUM_WORDS = 20000\n",
    "MAX_SEQ_LEN = 100"
   ]
  },
  {
   "cell_type": "code",
   "execution_count": 47,
   "id": "cb3222f7",
   "metadata": {},
   "outputs": [
    {
     "name": "stdout",
     "output_type": "stream",
     "text": [
      "[[1326], [949], [949], [83], [582], [582], [582]]\n",
      "Maximum length of input sequences: 22\n"
     ]
    }
   ],
   "source": [
    "# tokenizer for English language\n",
    "tokenizer_inputs = Tokenizer(num_words=MAX_NUM_WORDS)\n",
    "tokenizer_inputs.fit_on_texts(input_texts)\n",
    "input_sequences = tokenizer_inputs.texts_to_sequences(input_texts)\n",
    "print(input_sequences[:7])\n",
    "\n",
    "\n",
    "# word_to_index mapping \n",
    "from itertools import islice\n",
    "\n",
    "word_to_idx_inputs = tokenizer_inputs.word_index\n",
    "\n",
    "first_10_mapping_inputs = dict(islice(word_to_idx_inputs.items(), 10))\n",
    "first_10_mapping_inputs\n",
    "\n",
    "\n",
    "# maximum length of input sequences\n",
    "max_len_inputs = max(len(i) for i in input_sequences)\n",
    "print(\"Maximum length of input sequences:\",max_len_inputs)"
   ]
  },
  {
   "cell_type": "code",
   "execution_count": null,
   "id": "fe90fe62",
   "metadata": {},
   "outputs": [],
   "source": []
  }
 ],
 "metadata": {
  "kernelspec": {
   "display_name": "Python 3 (ipykernel)",
   "language": "python",
   "name": "python3"
  },
  "language_info": {
   "codemirror_mode": {
    "name": "ipython",
    "version": 3
   },
   "file_extension": ".py",
   "mimetype": "text/x-python",
   "name": "python",
   "nbconvert_exporter": "python",
   "pygments_lexer": "ipython3",
   "version": "3.9.6"
  }
 },
 "nbformat": 4,
 "nbformat_minor": 5
}
