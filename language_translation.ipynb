{
 "cells": [
  {
   "cell_type": "code",
   "execution_count": 1,
   "id": "0c3ee0d9",
   "metadata": {},
   "outputs": [],
   "source": [
    "import numpy as np\n",
    "import pandas as pd\n",
    "import matplotlib.pyplot as plt"
   ]
  },
  {
   "cell_type": "markdown",
   "id": "97c81c4a",
   "metadata": {},
   "source": [
    "### Loading the data"
   ]
  },
  {
   "cell_type": "code",
   "execution_count": 2,
   "id": "728a89eb",
   "metadata": {},
   "outputs": [],
   "source": [
    "NUM_SAMPLES = 10000\n",
    "\n",
    "input_texts = []\n",
    "target_texts = []\n",
    "target_texts_input = []"
   ]
  },
  {
   "cell_type": "code",
   "execution_count": 3,
   "id": "90a5483b",
   "metadata": {},
   "outputs": [],
   "source": [
    "t = 0\n",
    "\n",
    "for line in open(\"../neural_machine_translation/data/hin.txt\"):\n",
    "    t += 1\n",
    "    if t > NUM_SAMPLES:\n",
    "        break\n",
    "    \n",
    "    if '\\t' not in line:\n",
    "        continue\n",
    "        \n",
    "    input_text, translation, *rest = line.rstrip().split('\\t')\n",
    "    \n",
    "    target_text = translation + ' <eos>'\n",
    "    target_text_input = '<sos> ' + translation\n",
    "    \n",
    "    input_texts.append(input_text)\n",
    "    target_texts.append(target_text)\n",
    "    target_texts_input.append(target_text_input)"
   ]
  },
  {
   "cell_type": "code",
   "execution_count": 4,
   "id": "25d7bbce",
   "metadata": {},
   "outputs": [
    {
     "name": "stdout",
     "output_type": "stream",
     "text": [
      "Number of input texts: 3061\n"
     ]
    },
    {
     "data": {
      "text/plain": [
       "['Wow!',\n",
       " 'Duck!',\n",
       " 'Duck!',\n",
       " 'Help!',\n",
       " 'Jump.',\n",
       " 'Jump.',\n",
       " 'Jump.',\n",
       " 'Hello!',\n",
       " 'Hello!',\n",
       " 'Cheers!',\n",
       " 'Cheers!',\n",
       " 'Exhale.',\n",
       " 'Exhale.',\n",
       " 'Got it?',\n",
       " \"I'm OK.\"]"
      ]
     },
     "execution_count": 4,
     "metadata": {},
     "output_type": "execute_result"
    }
   ],
   "source": [
    "print('Number of input texts:', len(input_texts))\n",
    "input_texts[:15]"
   ]
  },
  {
   "cell_type": "code",
   "execution_count": 5,
   "id": "8ab42bf0",
   "metadata": {},
   "outputs": [
    {
     "name": "stdout",
     "output_type": "stream",
     "text": [
      "['<sos> वाह!', '<sos> झुको!', '<sos> बतख़!', '<sos> बचाओ!', '<sos> उछलो.', '<sos> कूदो.', '<sos> छलांग.', '<sos> नमस्ते।', '<sos> नमस्कार।', '<sos> वाह-वाह!', '<sos> चियर्स!', '<sos> सांस छोड़।', '<sos> सांस छोड़ो।', '<sos> समझे कि नहीं?', '<sos> मैं ठीक हूँ।']\n",
      "['वाह! <eos>', 'झुको! <eos>', 'बतख़! <eos>', 'बचाओ! <eos>', 'उछलो. <eos>', 'कूदो. <eos>', 'छलांग. <eos>', 'नमस्ते। <eos>', 'नमस्कार। <eos>', 'वाह-वाह! <eos>', 'चियर्स! <eos>', 'सांस छोड़। <eos>', 'सांस छोड़ो। <eos>', 'समझे कि नहीं? <eos>', 'मैं ठीक हूँ। <eos>']\n"
     ]
    }
   ],
   "source": [
    "print(target_texts_input[:15])\n",
    "print(target_texts[:15])"
   ]
  },
  {
   "cell_type": "code",
   "execution_count": null,
   "id": "deb50cba",
   "metadata": {},
   "outputs": [],
   "source": []
  },
  {
   "cell_type": "code",
   "execution_count": null,
   "id": "09410539",
   "metadata": {},
   "outputs": [],
   "source": []
  }
 ],
 "metadata": {
  "kernelspec": {
   "display_name": "Python 3 (ipykernel)",
   "language": "python",
   "name": "python3"
  },
  "language_info": {
   "codemirror_mode": {
    "name": "ipython",
    "version": 3
   },
   "file_extension": ".py",
   "mimetype": "text/x-python",
   "name": "python",
   "nbconvert_exporter": "python",
   "pygments_lexer": "ipython3",
   "version": "3.9.6"
  }
 },
 "nbformat": 4,
 "nbformat_minor": 5
}
