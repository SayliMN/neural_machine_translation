{
 "cells": [
  {
   "cell_type": "code",
   "execution_count": 1,
   "id": "4851d64f",
   "metadata": {},
   "outputs": [],
   "source": [
    "import numpy as np\n",
    "import pandas as pd\n",
    "import matplotlib.pyplot as plt"
   ]
  },
  {
   "cell_type": "markdown",
   "id": "673cb6dd",
   "metadata": {},
   "source": [
    "### Loading the data"
   ]
  },
  {
   "cell_type": "code",
   "execution_count": 41,
   "id": "871b8c4e",
   "metadata": {},
   "outputs": [],
   "source": [
    "NUM_SAMPLES = 10000\n",
    "\n",
    "input_texts = []\n",
    "target_texts = []\n",
    "target_texts_input = []"
   ]
  },
  {
   "cell_type": "code",
   "execution_count": 48,
   "id": "1c9b583a",
   "metadata": {},
   "outputs": [
    {
     "name": "stdout",
     "output_type": "stream",
     "text": [
      "9183\n"
     ]
    }
   ],
   "source": [
    "t = 0\n",
    "\n",
    "for line in open(\"../neural_machine_translation/data/hin.txt\"):\n",
    "    t += 1\n",
    "    if t > NUM_SAMPLES:\n",
    "        break\n",
    "    \n",
    "    if '\\t' not in line:\n",
    "        continue\n",
    "        \n",
    "    input_text, translation, *rest = line.rstrip().split('\\t')\n",
    "    \n",
    "    target_text = translation + ' <eos>'\n",
    "    target_text_input = '<sos> ' + translation\n",
    "    \n",
    "    input_texts.append(input_text)\n",
    "    target_texts.append(target_text)\n",
    "    target_texts_input.append(target_text_input)"
   ]
  },
  {
   "cell_type": "code",
   "execution_count": 57,
   "id": "8c12378c",
   "metadata": {},
   "outputs": [
    {
     "name": "stdout",
     "output_type": "stream",
     "text": [
      "Number of input texts: 9183\n"
     ]
    },
    {
     "data": {
      "text/plain": [
       "['वाह! <eos>',\n",
       " 'झुको! <eos>',\n",
       " 'बतख़! <eos>',\n",
       " 'बचाओ! <eos>',\n",
       " 'उछलो. <eos>',\n",
       " 'कूदो. <eos>',\n",
       " 'छलांग. <eos>',\n",
       " 'नमस्ते। <eos>',\n",
       " 'नमस्कार। <eos>',\n",
       " 'वाह-वाह! <eos>',\n",
       " 'चियर्स! <eos>',\n",
       " 'सांस छोड़। <eos>',\n",
       " 'सांस छोड़ो। <eos>',\n",
       " 'समझे कि नहीं? <eos>',\n",
       " 'मैं ठीक हूँ। <eos>']"
      ]
     },
     "execution_count": 57,
     "metadata": {},
     "output_type": "execute_result"
    }
   ],
   "source": [
    "print('Number of input texts:', len(input_texts))\n",
    "input_texts[:15]\n",
    "target_texts[:15]"
   ]
  },
  {
   "cell_type": "code",
   "execution_count": null,
   "id": "e03210ed",
   "metadata": {},
   "outputs": [],
   "source": []
  },
  {
   "cell_type": "code",
   "execution_count": null,
   "id": "6fab63d2",
   "metadata": {},
   "outputs": [],
   "source": []
  }
 ],
 "metadata": {
  "kernelspec": {
   "display_name": "Python 3 (ipykernel)",
   "language": "python",
   "name": "python3"
  },
  "language_info": {
   "codemirror_mode": {
    "name": "ipython",
    "version": 3
   },
   "file_extension": ".py",
   "mimetype": "text/x-python",
   "name": "python",
   "nbconvert_exporter": "python",
   "pygments_lexer": "ipython3",
   "version": "3.9.6"
  }
 },
 "nbformat": 4,
 "nbformat_minor": 5
}
